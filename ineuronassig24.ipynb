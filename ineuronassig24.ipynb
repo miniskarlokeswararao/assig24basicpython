{
 "cells": [
  {
   "cell_type": "code",
   "execution_count": 3,
   "id": "fdeacdab-f36a-4522-8e00-4481a344efe9",
   "metadata": {},
   "outputs": [
    {
     "name": "stdout",
     "output_type": "stream",
     "text": [
      "assigment 24\n",
      "Question1\n",
      "Create a function that takes an integer and returns a list from 1 to the given number, where: \n",
      " 1.\tIf the number can be divided evenly by 4, amplify it by 10 (i.e. return 10 times the number).\n",
      " 2.\tIf the number cannot be divided evenly by 4, simply return the number\n"
     ]
    },
    {
     "name": "stdin",
     "output_type": "stream",
     "text": [
      "enter the values in n = 25\n"
     ]
    },
    {
     "name": "stdout",
     "output_type": "stream",
     "text": [
      "[1, 2, 3, 40, 5, 6, 7, 80, 9, 10, 11, 120, 13, 14, 15, 160, 17, 18, 19, 200, 21, 22, 23, 240, 25]\n",
      "[1, 2, 3, 40, 5, 6, 7, 80, 9, 10, 11, 120, 13, 14, 15, 160, 17, 18, 19, 200, 21, 22, 23, 240, 25]\n"
     ]
    }
   ],
   "source": [
    "print('assigment 24')\n",
    "print('Question1')\n",
    "print('Create a function that takes an integer and returns a list from 1 to the given number, where: \\n 1.\tIf the number can be divided evenly by 4, amplify it by 10 (i.e. return 10 times the number).\\n 2.\tIf the number cannot be divided evenly by 4, simply return the number')\n",
    "def abc(a):\n",
    "    for i in range(0,len(a)):\n",
    "        if(a[i]%4==0):\n",
    "            a[i]=10*a[i]\n",
    "    print(a)\n",
    "    return a\n",
    "\n",
    "#abc([1,2,3,4])\n",
    "n=int(input('enter the values in n ='));\n",
    "aa=list(range(1,n+1))\n",
    "qq=abc(aa)\n",
    "print(qq)\n",
    "#print(\"________________method2___________________________________\")\n",
    "#method 2\n",
    "#question1=[( i=i*10  if(i%4)  else i ) for i in range(1,26)]\n",
    "#print(\"question1 answer = \",question1)\n",
    "    "
   ]
  },
  {
   "cell_type": "code",
   "execution_count": 19,
   "id": "074eda42-6f4b-4cb4-8d44-dee92ee17610",
   "metadata": {},
   "outputs": [
    {
     "name": "stdin",
     "output_type": "stream",
     "text": [
      "enter the values of n: 40\n"
     ]
    },
    {
     "name": "stdout",
     "output_type": "stream",
     "text": [
      "3 4 5\n",
      "5 12 13\n",
      "6 8 10\n",
      "7 24 25\n",
      "8 15 17\n",
      "9 12 15\n",
      "10 24 26\n",
      "12 16 20\n",
      "12 35 37\n",
      "15 20 25\n",
      "15 36 39\n",
      "16 30 34\n",
      "18 24 30\n",
      "20 21 29\n",
      "21 28 35\n"
     ]
    }
   ],
   "source": [
    "#5.pythograrus theorem\n",
    "#c=list(range(1,1000)):\n",
    "#for i in range(1,100):\n",
    "   # for j in range(1,100):\n",
    "        #if(i**2+j**2==c[k]**2):\n",
    "\"\"\"k=1;\n",
    "for i in range(1,100):\n",
    "    for j in range(1,100):\n",
    "        if(i**2+j**2==k**2):\n",
    "            print(i,j,k)\n",
    "            k=k+1\"\"\"\n",
    "import numpy as np\n",
    "n=int(input('enter the values of n:'))\n",
    "for i in range(1,n):\n",
    "    for j in range(i,n):\n",
    "        for k in range(j,n):\n",
    "            if(i**2+j**2==k**2):\n",
    "                print(i,j,k)\n",
    "                theta1=i/k\n",
    "                theta2=j/k\n",
    "                theta=i/j\n",
    "                #print(i**2,\"+\",j**2,\"=\",k**2,\"--->\",i,\"**\",2,\"+\",j,\"**\",2,\"=\",k,\"**\",2,\"sintheta1=\",np.sin(theta1),\"sintheta2\",np.sin(theta1),\"tan theta\",np.tan(theta))\n",
    "        \n",
    "        "
   ]
  },
  {
   "cell_type": "code",
   "execution_count": 42,
   "id": "5c9e1399-6ffb-4dc8-9631-3e27719af828",
   "metadata": {},
   "outputs": [
    {
     "name": "stdout",
     "output_type": "stream",
     "text": [
      "Question4 \n",
      " Create a function that takes a list of strings and return a list, sorted from shortest to longest.\n",
      "sort_by_length([\"Google\", \"Apple\", \"Microsoft\"])\n",
      "➞ [\"Apple\", \"Google\", \"Microsoft\"]\n",
      "( 0 <= 0\n",
      "length of the string= 5 -----> Apple\n",
      "0 = 0 + 1\n",
      "updated k= 1\n",
      "( 1 <= 1\n",
      "length of the string= 6 -----> Google\n",
      "1 = 1 + 1\n",
      "updated k= 2\n",
      "( 2 <= 2\n",
      "length of the string= 9 -----> Microsoft\n",
      "2 = 2 + 1\n",
      "updated k= 3\n"
     ]
    }
   ],
   "source": [
    "print(\"Question4 \\n Create a function that takes a list of strings and return a list, sorted from shortest to longest.\")\n",
    "print(\"\"\"sort_by_length([\"Google\", \"Apple\", \"Microsoft\"])\n",
    "➞ [\"Apple\", \"Google\", \"Microsoft\"]\"\"\")\n",
    "def lengthstringlist(a):\n",
    "    k=0\n",
    "    leng=[]\n",
    "    #if(k==k+1):\n",
    "       # break\n",
    "    for i in range(0,len(a[k])-2):\n",
    "        #k=0\n",
    "        if(i<=k):\n",
    "            print(\"(\",i,\"<=\",k)\n",
    "            print(\"length of the string=\",len(a[k]),\"----->\",a[k])\n",
    "            print(k,\"=\",k,\"+\",1)\n",
    "            leng.append(k)\n",
    "        \n",
    "            k=k+1\n",
    "            print(\"updated k=\",k)\n",
    "        #k=k+1\n",
    "    \n",
    "\n",
    "    \n",
    "\n",
    "a=[\"Apple\", \"Google\", \"Microsoft\"]\n",
    "\n",
    "lengthstringlist(a)\n",
    "\n",
    "#aa=[\"Google\", \"Apple\", \"Microsoft\"]\n",
    "#bb=sorted(aa)\n",
    "#print(aa)\"\"\""
   ]
  },
  {
   "cell_type": "code",
   "execution_count": 7,
   "id": "b6f9578b-5c14-49f3-a934-3ee1c596f10c",
   "metadata": {},
   "outputs": [
    {
     "name": "stdout",
     "output_type": "stream",
     "text": [
      "area of the circle is = 380.132711084365\n",
      "\n",
      " perimter of the circle is =  69.11503837897544\n"
     ]
    },
    {
     "data": {
      "text/plain": [
       "69.11503837897544"
      ]
     },
     "execution_count": 7,
     "metadata": {},
     "output_type": "execute_result"
    }
   ],
   "source": [
    "\"\"\"Question3\n",
    "Your task is to create a Circle constructor that creates a circle with a radius provided by an\n",
    "argument. The circles constructed must have two getters getArea() (PIr^2) and\n",
    "getPerimeter() (2PI*r) which give both respective areas and perimeter (circumference).\n",
    " For help with this class, I have provided you with a Rectangle constructor which you can use\n",
    "as a base example.\n",
    "Examples\n",
    "circy = Circle(11)\n",
    "circy.getArea()\n",
    "# Should return 380.132711084365\n",
    "circy = Circle(4.44)\n",
    "circy.getPerimeter()\n",
    "# Should return 27.897342763877365\n",
    "Notes\n",
    "Round results up to the nearest    \"\"\"\n",
    "import numpy as np\n",
    "class circless:\n",
    "    def __init__(self,radius):\n",
    "        self.radii=radius\n",
    "    def get_area(self,w):\n",
    "        self.area=(np.pi)*(self.radii**2)\n",
    "        print(\"area of the circle is =\",self.area)\n",
    "        self.w=9\n",
    "        return self.area\n",
    "    def get_perimeter(self):\n",
    "        self.perimeter=2*(np.pi)*self.radii\n",
    "        print(\"\\n perimter of the circle is = \",self.perimeter)\n",
    "        return self.perimeter\n",
    "p=circless(11)\n",
    "p.get_area(455)\n",
    "p.get_perimeter()  "
   ]
  },
  {
   "cell_type": "code",
   "execution_count": null,
   "id": "4ebda7c3-cfb2-40dd-bda4-202a49119490",
   "metadata": {},
   "outputs": [],
   "source": []
  }
 ],
 "metadata": {
  "kernelspec": {
   "display_name": "Python 3 (ipykernel)",
   "language": "python",
   "name": "python3"
  },
  "language_info": {
   "codemirror_mode": {
    "name": "ipython",
    "version": 3
   },
   "file_extension": ".py",
   "mimetype": "text/x-python",
   "name": "python",
   "nbconvert_exporter": "python",
   "pygments_lexer": "ipython3",
   "version": "3.10.6"
  }
 },
 "nbformat": 4,
 "nbformat_minor": 5
}
